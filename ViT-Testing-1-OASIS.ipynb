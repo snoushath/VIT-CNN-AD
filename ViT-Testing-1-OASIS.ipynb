{
 "cells": [
  {
   "cell_type": "code",
   "execution_count": 1,
   "metadata": {},
   "outputs": [],
   "source": [
    "from datasets import load_dataset\n",
    "from transformers import pipeline\n",
    "import numpy as np\n",
    "import pandas as pd \n"
   ]
  },
  {
   "cell_type": "code",
   "execution_count": 2,
   "metadata": {},
   "outputs": [],
   "source": [
    "ds = load_dataset('Falah/Alzheimer_MRI', split='test')"
   ]
  },
  {
   "cell_type": "code",
   "execution_count": 3,
   "metadata": {},
   "outputs": [],
   "source": [
    "labels = ds.features['label'].names #--> returns unique labels. \n",
    "label2id, id2label = dict(), dict()\n",
    "for i, label in enumerate(labels):\n",
    "    #print(f'id: {i}, label:{label}')\n",
    "    label2id[label] = str(i)\n",
    "    id2label[str(i)] = label"
   ]
  },
  {
   "cell_type": "code",
   "execution_count": 31,
   "metadata": {},
   "outputs": [],
   "source": [
    "#Load the fine-tuned ViT model.\n",
    "\n",
    "checkpoint = 'models/deit-base-patch16-224/checkpoint-3200'\n",
    "#image_processor = AutoImageProcessor.from_pretrained(checkpoint)\n",
    "classifier = pipeline(\"image-classification\", model=checkpoint)"
   ]
  },
  {
   "cell_type": "code",
   "execution_count": 32,
   "metadata": {},
   "outputs": [
    {
     "name": "stdout",
     "output_type": "stream",
     "text": [
      "actual label--> Very_Mild_Demented\n"
     ]
    }
   ],
   "source": [
    "index = 918\n",
    "img = ds[\"image\"][index]\n",
    "print('actual label-->',id2label[str(ds[\"label\"][index])])"
   ]
  },
  {
   "cell_type": "code",
   "execution_count": 35,
   "metadata": {},
   "outputs": [
    {
     "name": "stdout",
     "output_type": "stream",
     "text": [
      "predicted label--> Very_Mild_Demented\n"
     ]
    }
   ],
   "source": [
    "classifier = pipeline(\"image-classification\", model=checkpoint)\n",
    "logits = classifier(img)\n",
    "logits[0]['score']\n",
    "print('predicted label-->',logits[0]['label'])"
   ]
  },
  {
   "cell_type": "code",
   "execution_count": 36,
   "metadata": {},
   "outputs": [
    {
     "ename": "IndexError",
     "evalue": "list index out of range",
     "output_type": "error",
     "traceback": [
      "\u001b[1;31m---------------------------------------------------------------------------\u001b[0m",
      "\u001b[1;31mIndexError\u001b[0m                                Traceback (most recent call last)",
      "Cell \u001b[1;32mIn[36], line 1\u001b[0m\n\u001b[1;32m----> 1\u001b[0m \u001b[43mlogits\u001b[49m\u001b[43m[\u001b[49m\u001b[43mi\u001b[49m\u001b[43m]\u001b[49m\n",
      "\u001b[1;31mIndexError\u001b[0m: list index out of range"
     ]
    }
   ],
   "source": [
    "logits[i]"
   ]
  },
  {
   "cell_type": "code",
   "execution_count": 37,
   "metadata": {},
   "outputs": [],
   "source": [
    "#method-1 continuation : to get the probability array stored according to class label \n",
    "#(as against in descending order given by pipeline logits)\n",
    "def return_class_probability(logits, dict):\n",
    "    import numpy as np\n",
    "    class_probability = np.zeros(4)\n",
    "    for i in range(len(logits)):\n",
    "        index = dict[logits[i]['label']]\n",
    "        class_probability[index] = logits[i]['score']\n",
    "    return(class_probability)"
   ]
  },
  {
   "cell_type": "code",
   "execution_count": 38,
   "metadata": {},
   "outputs": [
    {
     "name": "stdout",
     "output_type": "stream",
     "text": [
      "[0.02712214 0.01853088 0.0009816  0.95336545]\n",
      "[{'score': 0.9533654451370239, 'label': 'Very_Mild_Demented'}, {'score': 0.027122143656015396, 'label': 'Mild_Demented'}, {'score': 0.01853088289499283, 'label': 'Moderate_Demented'}, {'score': 0.000981598161160946, 'label': 'Non_Demented'}]\n"
     ]
    }
   ],
   "source": [
    "#  Label-0 -- > Mild_Demented \n",
    "#  Label-1 -- > Moderate_Demented \n",
    "#  Label-2 -- > Non_Demented \n",
    "#  Label-3 -- > Very_Mild_Demented\n",
    "dict = {\n",
    "    \"Mild_Demented\":0,\n",
    "    \"Moderate_Demented\":1,\n",
    "    \"Non_Demented\":2,\n",
    "    \"Very_Mild_Demented\":3\n",
    "}\n",
    "class_probability = return_class_probability(logits,dict)\n",
    "print(class_probability)\n",
    "print(logits)\n"
   ]
  },
  {
   "cell_type": "code",
   "execution_count": 39,
   "metadata": {},
   "outputs": [],
   "source": [
    "# use predicted and groundtruth labels to get the metrics. \n",
    "actual = np.array(ds[:]['label'],dtype=int) # get actual labels (groundtruth)\n",
    "predicted = np.zeros([actual.shape[0],4],dtype=int)\n",
    "proba = np.zeros([actual.shape[0],4],dtype=float)\n",
    "for i in range(actual.shape[0]):\n",
    "    img = ds[\"image\"][i]\n",
    "    logits = classifier(img)\n",
    "    proba[i] = return_class_probability(logits,dict)\n",
    "\n",
    "predicted = np.argmax(proba,axis=1)"
   ]
  },
  {
   "cell_type": "code",
   "execution_count": 40,
   "metadata": {},
   "outputs": [
    {
     "name": "stdout",
     "output_type": "stream",
     "text": [
      "[[1.16031303e-03 4.64065874e-04 2.60310676e-02 9.72344577e-01]\n",
      " [6.16053455e-02 1.18533894e-03 1.78680604e-03 9.35422480e-01]\n",
      " [2.61885179e-06 2.26764787e-05 9.99804556e-01 1.70196756e-04]\n",
      " [6.84208089e-06 7.95250799e-06 7.82220013e-06 9.99977350e-01]\n",
      " [9.98864174e-01 5.90746677e-05 8.32295791e-06 1.06849486e-03]\n",
      " [9.94031667e-04 1.37173614e-04 1.52940029e-05 9.98853445e-01]\n",
      " [8.13767686e-03 3.23597342e-04 9.89484370e-01 2.05436442e-03]\n",
      " [1.90288381e-04 5.41844165e-05 9.99739707e-01 1.57928225e-05]\n",
      " [1.33737386e-03 5.77524006e-05 9.90104735e-01 8.50011595e-03]\n",
      " [6.22052758e-05 1.09698725e-04 3.28055671e-06 9.99824822e-01]]\n",
      "[3 3 2 3 0 3 2 2 2 3]\n",
      "[3 0 2 3 0 3 2 2 2 3]\n"
     ]
    }
   ],
   "source": [
    "print(proba[0:10])\n",
    "print(predicted[0:10])\n",
    "print(actual[0:10])"
   ]
  },
  {
   "cell_type": "code",
   "execution_count": 41,
   "metadata": {},
   "outputs": [
    {
     "name": "stdout",
     "output_type": "stream",
     "text": [
      "estimating accuracy\n",
      "Specificity or TNR 0.9905057688110237\n",
      "Sensitivity or TPR or Recall 0.9533844483187353\n",
      "FNR  0.046615551681264744\n",
      "FPR 0.009494231188976299\n",
      "Accuracy =  0.97734375\n",
      "AUC = 1.0\n"
     ]
    }
   ],
   "source": [
    "print(\"estimating accuracy\")\n",
    "#Print overall accuracy\n",
    "from sklearn.metrics import multilabel_confusion_matrix\n",
    "from sklearn import metrics\n",
    "mcm = multilabel_confusion_matrix(y_true=actual, y_pred=predicted, labels=[0,1,2,3], samplewise=False)\n",
    "tn = mcm[:,0,0]\n",
    "tp = mcm[:,1,1]\n",
    "fp = mcm[:,0,1]\n",
    "fn = mcm[:,1,0]\n",
    "specificity = tn/(tn+fp)\n",
    "print(\"Specificity or TNR\",np.mean(specificity))\n",
    "\n",
    "sensitivity = tp/(tp+fn)\n",
    "print(\"Sensitivity or TPR or Recall\",np.mean(sensitivity))\n",
    "\n",
    "print(\"FNR \", 1-np.mean(sensitivity))\n",
    "\n",
    "print(\"FPR\", 1-np.mean(specificity))\n",
    "\n",
    "\n",
    "print(\"Accuracy = \", metrics.accuracy_score(actual, predicted))\n",
    "\n",
    "\n",
    "#calculate AUC of model\n",
    "auc = metrics.roc_auc_score(predicted, proba, multi_class='ovr')\n",
    "\n",
    "#print AUC score\n",
    "print(\"AUC =\",auc)\n",
    "\n",
    "per_metrics = {'Accuracy':[metrics.accuracy_score(actual, predicted)],\n",
    "                      'Specificity':[np.mean(specificity)],\n",
    "                      'Sensitivity':[np.mean(sensitivity)],\n",
    "                      'FNR': [1-np.mean(sensitivity)],\n",
    "                      'FPR': [1-np.mean(specificity)]}\n",
    "df = pd.DataFrame(per_metrics)\n",
    "df.to_csv('Results/deit-base-patch16-224.csv')\n",
    "#print(performanceMetrics)"
   ]
  },
  {
   "cell_type": "code",
   "execution_count": 42,
   "metadata": {},
   "outputs": [
    {
     "data": {
      "image/png": "[encoded data removed]",
      "text/plain": [
       "<Figure size 700x600 with 1 Axes>"
      ]
     },
     "metadata": {},
     "output_type": "display_data"
    }
   ],
   "source": [
    "#Code for CM\n",
    "from sklearn.metrics import confusion_matrix\n",
    "import seaborn as sns\n",
    "cf_matrix = confusion_matrix(actual, predicted)\n",
    "import matplotlib.pyplot as plt\n",
    "fig = plt.figure(figsize=(7, 6))\n",
    "ax= plt.subplot()\n",
    "sns.heatmap(cf_matrix, annot=True, cmap='Blues', cbar=False, linewidth=0.5,linecolor=\"black\",fmt='')\n",
    "ax.set_xlabel('Predicted Label', fontsize=12)\n",
    "ax.set_ylabel('True Label', fontsize=12)\n",
    "plt.savefig(\"Results/CM-deit-base-patch16-224.pdf\")"
   ]
  }
 ],
 "metadata": {
  "kernelspec": {
   "display_name": "pytorch",
   "language": "python",
   "name": "python3"
  },
  "language_info": {
   "codemirror_mode": {
    "name": "ipython",
    "version": 3
   },
   "file_extension": ".py",
   "mimetype": "text/x-python",
   "name": "python",
   "nbconvert_exporter": "python",
   "pygments_lexer": "ipython3",
   "version": "3.8.17"
  }
 },
 "nbformat": 4,
 "nbformat_minor": 2
}
